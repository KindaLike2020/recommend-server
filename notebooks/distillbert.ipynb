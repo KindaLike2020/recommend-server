{
  "cells": [
    {
      "cell_type": "code",
      "execution_count": null,
      "metadata": {
        "colab": {
          "base_uri": "https://localhost:8080/"
        },
        "id": "jAj_ckaZtAvV",
        "outputId": "0e9ed463-ad49-4040-e418-d4466923981a"
      },
      "outputs": [
        {
          "name": "stdout",
          "output_type": "stream",
          "text": [
            "Requirement already satisfied: datasets in /usr/local/lib/python3.10/dist-packages (2.15.0)\n",
            "Requirement already satisfied: transformers in /usr/local/lib/python3.10/dist-packages (4.35.2)\n",
            "Requirement already satisfied: huggingface_hub in /usr/local/lib/python3.10/dist-packages (0.19.4)\n",
            "Requirement already satisfied: numpy>=1.17 in /usr/local/lib/python3.10/dist-packages (from datasets) (1.23.5)\n",
            "Requirement already satisfied: pyarrow>=8.0.0 in /usr/local/lib/python3.10/dist-packages (from datasets) (9.0.0)\n",
            "Requirement already satisfied: pyarrow-hotfix in /usr/local/lib/python3.10/dist-packages (from datasets) (0.6)\n",
            "Requirement already satisfied: dill<0.3.8,>=0.3.0 in /usr/local/lib/python3.10/dist-packages (from datasets) (0.3.7)\n",
            "Requirement already satisfied: pandas in /usr/local/lib/python3.10/dist-packages (from datasets) (1.5.3)\n",
            "Requirement already satisfied: requests>=2.19.0 in /usr/local/lib/python3.10/dist-packages (from datasets) (2.31.0)\n",
            "Requirement already satisfied: tqdm>=4.62.1 in /usr/local/lib/python3.10/dist-packages (from datasets) (4.66.1)\n",
            "Requirement already satisfied: xxhash in /usr/local/lib/python3.10/dist-packages (from datasets) (3.4.1)\n",
            "Requirement already satisfied: multiprocess in /usr/local/lib/python3.10/dist-packages (from datasets) (0.70.15)\n",
            "Requirement already satisfied: fsspec[http]<=2023.10.0,>=2023.1.0 in /usr/local/lib/python3.10/dist-packages (from datasets) (2023.6.0)\n",
            "Requirement already satisfied: aiohttp in /usr/local/lib/python3.10/dist-packages (from datasets) (3.9.1)\n",
            "Requirement already satisfied: packaging in /usr/local/lib/python3.10/dist-packages (from datasets) (23.2)\n",
            "Requirement already satisfied: pyyaml>=5.1 in /usr/local/lib/python3.10/dist-packages (from datasets) (6.0.1)\n",
            "Requirement already satisfied: filelock in /usr/local/lib/python3.10/dist-packages (from transformers) (3.13.1)\n",
            "Requirement already satisfied: regex!=2019.12.17 in /usr/local/lib/python3.10/dist-packages (from transformers) (2023.6.3)\n",
            "Requirement already satisfied: tokenizers<0.19,>=0.14 in /usr/local/lib/python3.10/dist-packages (from transformers) (0.15.0)\n",
            "Requirement already satisfied: safetensors>=0.3.1 in /usr/local/lib/python3.10/dist-packages (from transformers) (0.4.1)\n",
            "Requirement already satisfied: typing-extensions>=3.7.4.3 in /usr/local/lib/python3.10/dist-packages (from huggingface_hub) (4.5.0)\n",
            "Requirement already satisfied: attrs>=17.3.0 in /usr/local/lib/python3.10/dist-packages (from aiohttp->datasets) (23.1.0)\n",
            "Requirement already satisfied: multidict<7.0,>=4.5 in /usr/local/lib/python3.10/dist-packages (from aiohttp->datasets) (6.0.4)\n",
            "Requirement already satisfied: yarl<2.0,>=1.0 in /usr/local/lib/python3.10/dist-packages (from aiohttp->datasets) (1.9.3)\n",
            "Requirement already satisfied: frozenlist>=1.1.1 in /usr/local/lib/python3.10/dist-packages (from aiohttp->datasets) (1.4.0)\n",
            "Requirement already satisfied: aiosignal>=1.1.2 in /usr/local/lib/python3.10/dist-packages (from aiohttp->datasets) (1.3.1)\n",
            "Requirement already satisfied: async-timeout<5.0,>=4.0 in /usr/local/lib/python3.10/dist-packages (from aiohttp->datasets) (4.0.3)\n",
            "Requirement already satisfied: charset-normalizer<4,>=2 in /usr/local/lib/python3.10/dist-packages (from requests>=2.19.0->datasets) (3.3.2)\n",
            "Requirement already satisfied: idna<4,>=2.5 in /usr/local/lib/python3.10/dist-packages (from requests>=2.19.0->datasets) (3.6)\n",
            "Requirement already satisfied: urllib3<3,>=1.21.1 in /usr/local/lib/python3.10/dist-packages (from requests>=2.19.0->datasets) (2.0.7)\n",
            "Requirement already satisfied: certifi>=2017.4.17 in /usr/local/lib/python3.10/dist-packages (from requests>=2.19.0->datasets) (2023.11.17)\n",
            "Requirement already satisfied: python-dateutil>=2.8.1 in /usr/local/lib/python3.10/dist-packages (from pandas->datasets) (2.8.2)\n",
            "Requirement already satisfied: pytz>=2020.1 in /usr/local/lib/python3.10/dist-packages (from pandas->datasets) (2023.3.post1)\n",
            "Requirement already satisfied: six>=1.5 in /usr/local/lib/python3.10/dist-packages (from python-dateutil>=2.8.1->pandas->datasets) (1.16.0)\n",
            "Requirement already satisfied: transformers in /usr/local/lib/python3.10/dist-packages (4.35.2)\n",
            "Requirement already satisfied: torch in /usr/local/lib/python3.10/dist-packages (2.1.0+cu118)\n",
            "Requirement already satisfied: pandas in /usr/local/lib/python3.10/dist-packages (1.5.3)\n",
            "Requirement already satisfied: filelock in /usr/local/lib/python3.10/dist-packages (from transformers) (3.13.1)\n",
            "Requirement already satisfied: huggingface-hub<1.0,>=0.16.4 in /usr/local/lib/python3.10/dist-packages (from transformers) (0.19.4)\n",
            "Requirement already satisfied: numpy>=1.17 in /usr/local/lib/python3.10/dist-packages (from transformers) (1.23.5)\n",
            "Requirement already satisfied: packaging>=20.0 in /usr/local/lib/python3.10/dist-packages (from transformers) (23.2)\n",
            "Requirement already satisfied: pyyaml>=5.1 in /usr/local/lib/python3.10/dist-packages (from transformers) (6.0.1)\n",
            "Requirement already satisfied: regex!=2019.12.17 in /usr/local/lib/python3.10/dist-packages (from transformers) (2023.6.3)\n",
            "Requirement already satisfied: requests in /usr/local/lib/python3.10/dist-packages (from transformers) (2.31.0)\n",
            "Requirement already satisfied: tokenizers<0.19,>=0.14 in /usr/local/lib/python3.10/dist-packages (from transformers) (0.15.0)\n",
            "Requirement already satisfied: safetensors>=0.3.1 in /usr/local/lib/python3.10/dist-packages (from transformers) (0.4.1)\n",
            "Requirement already satisfied: tqdm>=4.27 in /usr/local/lib/python3.10/dist-packages (from transformers) (4.66.1)\n",
            "Requirement already satisfied: typing-extensions in /usr/local/lib/python3.10/dist-packages (from torch) (4.5.0)\n",
            "Requirement already satisfied: sympy in /usr/local/lib/python3.10/dist-packages (from torch) (1.12)\n",
            "Requirement already satisfied: networkx in /usr/local/lib/python3.10/dist-packages (from torch) (3.2.1)\n",
            "Requirement already satisfied: jinja2 in /usr/local/lib/python3.10/dist-packages (from torch) (3.1.2)\n",
            "Requirement already satisfied: fsspec in /usr/local/lib/python3.10/dist-packages (from torch) (2023.6.0)\n",
            "Requirement already satisfied: triton==2.1.0 in /usr/local/lib/python3.10/dist-packages (from torch) (2.1.0)\n",
            "Requirement already satisfied: python-dateutil>=2.8.1 in /usr/local/lib/python3.10/dist-packages (from pandas) (2.8.2)\n",
            "Requirement already satisfied: pytz>=2020.1 in /usr/local/lib/python3.10/dist-packages (from pandas) (2023.3.post1)\n",
            "Requirement already satisfied: six>=1.5 in /usr/local/lib/python3.10/dist-packages (from python-dateutil>=2.8.1->pandas) (1.16.0)\n",
            "Requirement already satisfied: MarkupSafe>=2.0 in /usr/local/lib/python3.10/dist-packages (from jinja2->torch) (2.1.3)\n",
            "Requirement already satisfied: charset-normalizer<4,>=2 in /usr/local/lib/python3.10/dist-packages (from requests->transformers) (3.3.2)\n",
            "Requirement already satisfied: idna<4,>=2.5 in /usr/local/lib/python3.10/dist-packages (from requests->transformers) (3.6)\n",
            "Requirement already satisfied: urllib3<3,>=1.21.1 in /usr/local/lib/python3.10/dist-packages (from requests->transformers) (2.0.7)\n",
            "Requirement already satisfied: certifi>=2017.4.17 in /usr/local/lib/python3.10/dist-packages (from requests->transformers) (2023.11.17)\n",
            "Requirement already satisfied: mpmath>=0.19 in /usr/local/lib/python3.10/dist-packages (from sympy->torch) (1.3.0)\n",
            "Requirement already satisfied: tqdm in /usr/local/lib/python3.10/dist-packages (4.66.1)\n",
            "Drive already mounted at /content/gdrive; to attempt to forcibly remount, call drive.mount(\"/content/gdrive\", force_remount=True).\n"
          ]
        }
      ],
      "source": [
        "! pip install datasets transformers huggingface_hub\n",
        "! pip install transformers torch pandas\n",
        "\n",
        "import numpy as np\n",
        "import pandas as pd\n",
        "import os\n",
        "import json\n",
        "import torch\n",
        "\n",
        "! pip install tqdm\n",
        "from tqdm import tqdm\n",
        "\n",
        "from torch.utils.data import Dataset, DataLoader\n",
        "from torch.optim import AdamW\n",
        "from sklearn.metrics import classification_report"
      ]
    },
    {
      "cell_type": "code",
      "execution_count": 2,
      "metadata": {
        "id": "Nt6mvxzXZ4uD"
      },
      "outputs": [],
      "source": [
        "device = torch.device('cuda' if torch.cuda.is_available() else 'cpu')"
      ]
    },
    {
      "cell_type": "markdown",
      "metadata": {
        "id": "WR9ni0_0pl9w"
      },
      "source": [
        "## DISTILBERT MODEL"
      ]
    },
    {
      "cell_type": "code",
      "execution_count": 3,
      "metadata": {
        "colab": {
          "base_uri": "https://localhost:8080/"
        },
        "id": "Sj1OE2shp4OS",
        "outputId": "7c2b8bd1-6ed4-4399-b047-517d79e664e9"
      },
      "outputs": [
        {
          "name": "stderr",
          "output_type": "stream",
          "text": [
            "<ipython-input-3-c818eba3f572>:2: DtypeWarning: Columns (0,9,10,11,12,13,14,15) have mixed types. Specify dtype option on import or set low_memory=False.\n",
            "  reviews = pd.read_csv(file_path, encoding='latin1')\n"
          ]
        },
        {
          "name": "stdout",
          "output_type": "stream",
          "text": [
            "Number of data points sampled: 52429\n"
          ]
        }
      ],
      "source": [
        "def load_and_preprocess_yelp_reviews(file_path):\n",
        "    reviews = pd.read_csv(file_path, encoding='latin1')\n",
        "    reviews_sample = reviews.sample(frac=0.05, random_state=42).reset_index(drop=True)\n",
        "\n",
        "    # Print the number of data points sampled\n",
        "    print(f\"Number of data points sampled: {len(reviews_sample)}\")\n",
        "\n",
        "    return reviews_sample\n",
        "\n",
        "# Load and preprocess Yelp reviews\n",
        "yelp_reviews = load_and_preprocess_yelp_reviews('../data/yelp reviews.csv')\n"
      ]
    },
    {
      "cell_type": "code",
      "execution_count": 4,
      "metadata": {
        "id": "C-m50RqXv-ty"
      },
      "outputs": [],
      "source": [
        "class YelpReviewDataset(Dataset):\n",
        "    def __init__(self, encodings, labels):\n",
        "        self.encodings = encodings\n",
        "        self.labels = labels\n",
        "\n",
        "    def __getitem__(self, idx):\n",
        "        item = {key: val[idx].clone().detach() for key, val in self.encodings.items()}\n",
        "        item['labels'] = torch.tensor(self.labels.iloc[idx], dtype=torch.long)\n",
        "        return item\n",
        "\n",
        "    def __len__(self):\n",
        "        return len(self.labels)\n"
      ]
    },
    {
      "cell_type": "code",
      "execution_count": 5,
      "metadata": {
        "id": "opL0yUzkvVgE"
      },
      "outputs": [],
      "source": [
        "def rating_to_sentiment(rating):\n",
        "    if rating <= 2:\n",
        "        return 0  # Negative\n",
        "    elif rating == 3:\n",
        "        return 1  # Neutral\n",
        "    else:\n",
        "        return 2  # Positive"
      ]
    },
    {
      "cell_type": "code",
      "execution_count": 6,
      "metadata": {
        "id": "StgOQmwAhBCP"
      },
      "outputs": [],
      "source": [
        "labels = yelp_reviews['Raitng'].apply(rating_to_sentiment)"
      ]
    },
    {
      "cell_type": "code",
      "execution_count": 7,
      "metadata": {
        "id": "FagQCn9Aqf7K"
      },
      "outputs": [],
      "source": [
        "#Load Lexicon Dictionaries\n",
        "\n",
        "def load_lexicons(lexicon_file_paths):\n",
        "    lexicons = {}\n",
        "    for file_path in lexicon_file_paths:\n",
        "        lexicon_name = file_path.split('/')[-1].split('.')[0]\n",
        "        lexicons[lexicon_name] = pd.read_csv(file_path)\n",
        "    return lexicons\n",
        "\n",
        "lexicon_files = ['../data/yelp_lexicons/ambience.csv',\n",
        "'../data/yelp_lexicons/cuisine.csv',\n",
        "'../data/yelp_lexicons/food.csv',\n",
        "'../data/yelp_lexicons/price.csv',\n",
        "'../data/yelp_lexicons/restaurant.csv',\n",
        "'../data/yelp_lexicons/service.csv',\n",
        "'../data/yelp_lexicons/staff.csv'\n",
        "]\n",
        "lexicons = load_lexicons(lexicon_files)\n",
        "\n",
        "assert len(labels) == len(yelp_reviews)"
      ]
    },
    {
      "cell_type": "code",
      "execution_count": 8,
      "metadata": {
        "colab": {
          "base_uri": "https://localhost:8080/"
        },
        "id": "WOtnJIyXrGYm",
        "outputId": "1431afed-a018-42c2-c4da-adf40c45978b"
      },
      "outputs": [
        {
          "name": "stderr",
          "output_type": "stream",
          "text": [
            "Some weights of DistilBertForSequenceClassification were not initialized from the model checkpoint at distilbert-base-uncased and are newly initialized: ['classifier.weight', 'classifier.bias', 'pre_classifier.weight', 'pre_classifier.bias']\n",
            "You should probably TRAIN this model on a down-stream task to be able to use it for predictions and inference.\n"
          ]
        }
      ],
      "source": [
        "#DistilBERT Model SETUP\n",
        "from transformers import DistilBertTokenizer, DistilBertForSequenceClassification\n",
        "\n",
        "tokenizer = DistilBertTokenizer.from_pretrained('distilbert-base-uncased')\n",
        "model = DistilBertForSequenceClassification.from_pretrained('distilbert-base-uncased')\n",
        "\n",
        "def rating_to_sentiment(rating):\n",
        "    if rating <= 2:\n",
        "        return 0  # Negative\n",
        "    elif rating == 3:\n",
        "        return 1  # Neutral\n",
        "    else:\n",
        "        return 2  # Positive"
      ]
    },
    {
      "cell_type": "code",
      "execution_count": 9,
      "metadata": {
        "colab": {
          "base_uri": "https://localhost:8080/"
        },
        "id": "DIFqpg1ksGRC",
        "outputId": "361ab7a9-1695-44e9-f89c-365d266e4cfc"
      },
      "outputs": [
        {
          "name": "stderr",
          "output_type": "stream",
          "text": [
            "Tokenizing reviews: 100%|██████████| 36700/36700 [02:24<00:00, 254.68it/s]\n",
            "Tokenizing reviews: 100%|██████████| 7864/7864 [00:26<00:00, 293.95it/s]\n",
            "Tokenizing reviews: 100%|██████████| 7865/7865 [00:24<00:00, 316.05it/s]\n"
          ]
        }
      ],
      "source": [
        "from sklearn.model_selection import train_test_split\n",
        "\n",
        "# Split the dataset into training, validation, and testing sets first\n",
        "train_data, temp_data = train_test_split(yelp_reviews, test_size=0.3, random_state=42)\n",
        "validation_data, test_data = train_test_split(temp_data, test_size=0.5, random_state=42)\n",
        "\n",
        "train_data.reset_index(drop=True, inplace=True)\n",
        "validation_data.reset_index(drop=True, inplace=True)\n",
        "test_data.reset_index(drop=True, inplace=True)\n",
        "\n",
        "#function to tokenize a list of reviews\n",
        "def tokenize_reviews(reviews, tokenizer):\n",
        "    tokenized_reviews = {'input_ids': [], 'attention_mask': []}\n",
        "\n",
        "    for review in tqdm(reviews, desc=\"Tokenizing reviews\"):\n",
        "        encoded_review = tokenizer.encode_plus(\n",
        "            review,\n",
        "            max_length=512,\n",
        "            truncation=True,\n",
        "            padding='max_length',\n",
        "            return_tensors=\"pt\"\n",
        "        )\n",
        "        tokenized_reviews['input_ids'].append(encoded_review['input_ids'][0])\n",
        "        tokenized_reviews['attention_mask'].append(encoded_review['attention_mask'][0])\n",
        "\n",
        "    # Convert lists of tensors to a single tensor\n",
        "    tokenized_reviews['input_ids'] = torch.stack(tokenized_reviews['input_ids'])\n",
        "    tokenized_reviews['attention_mask'] = torch.stack(tokenized_reviews['attention_mask'])\n",
        "\n",
        "    return tokenized_reviews\n",
        "\n",
        "# Tokenize each dataset\n",
        "train_encodings = tokenize_reviews(list(train_data['Comment']), tokenizer)\n",
        "val_encodings = tokenize_reviews(list(validation_data['Comment']), tokenizer)\n",
        "test_encodings = tokenize_reviews(list(test_data['Comment']), tokenizer)\n",
        "\n",
        "# Convert ratings to sentiment labels\n",
        "train_labels = train_data['Raitng'].apply(rating_to_sentiment)\n",
        "val_labels = validation_data['Raitng'].apply(rating_to_sentiment)\n",
        "test_labels = test_data['Raitng'].apply(rating_to_sentiment)\n",
        "\n",
        "# Create datasets for each split\n",
        "train_dataset = YelpReviewDataset(train_encodings, train_labels)\n",
        "val_dataset = YelpReviewDataset(val_encodings, val_labels)\n",
        "test_dataset = YelpReviewDataset(test_encodings, test_labels)\n",
        "\n",
        "# DataLoaders\n",
        "train_dataloader = DataLoader(train_dataset, batch_size=32, shuffle=True)\n",
        "val_dataloader = DataLoader(val_dataset, batch_size=32, shuffle=False)\n",
        "test_dataloader = DataLoader(test_dataset, batch_size=32, shuffle=False)\n"
      ]
    },
    {
      "cell_type": "code",
      "execution_count": 10,
      "metadata": {
        "colab": {
          "base_uri": "https://localhost:8080/"
        },
        "id": "YJh1okWAwJ69",
        "outputId": "3e214b3b-603f-4668-c673-83c8b53036b9"
      },
      "outputs": [
        {
          "name": "stderr",
          "output_type": "stream",
          "text": [
            "Some weights of DistilBertForSequenceClassification were not initialized from the model checkpoint at distilbert-base-uncased and are newly initialized: ['classifier.weight', 'classifier.bias', 'pre_classifier.weight', 'pre_classifier.bias']\n",
            "You should probably TRAIN this model on a down-stream task to be able to use it for predictions and inference.\n",
            "Epoch 1/20 [Training]: 100%|██████████| 1147/1147 [08:29<00:00,  2.25it/s, train_loss=0.498]\n",
            "Epoch 1/20 [Validation]: 100%|██████████| 246/246 [00:36<00:00,  6.66it/s, val_loss=0.382]\n"
          ]
        },
        {
          "name": "stdout",
          "output_type": "stream",
          "text": [
            "Epoch 1/20 - Training Loss: 0.4098, Validation Loss: 0.3487\n"
          ]
        },
        {
          "name": "stderr",
          "output_type": "stream",
          "text": [
            "Epoch 2/20 [Training]: 100%|██████████| 1147/1147 [08:29<00:00,  2.25it/s, train_loss=0.324]\n",
            "Epoch 2/20 [Validation]: 100%|██████████| 246/246 [00:36<00:00,  6.66it/s, val_loss=0.315]\n"
          ]
        },
        {
          "name": "stdout",
          "output_type": "stream",
          "text": [
            "Epoch 2/20 - Training Loss: 0.2923, Validation Loss: 0.3633\n"
          ]
        },
        {
          "name": "stderr",
          "output_type": "stream",
          "text": [
            "Epoch 3/20 [Training]: 100%|██████████| 1147/1147 [08:29<00:00,  2.25it/s, train_loss=0.16]\n",
            "Epoch 3/20 [Validation]: 100%|██████████| 246/246 [00:36<00:00,  6.67it/s, val_loss=0.404]\n"
          ]
        },
        {
          "name": "stdout",
          "output_type": "stream",
          "text": [
            "Epoch 3/20 - Training Loss: 0.2103, Validation Loss: 0.3939\n"
          ]
        },
        {
          "name": "stderr",
          "output_type": "stream",
          "text": [
            "Epoch 4/20 [Training]: 100%|██████████| 1147/1147 [08:29<00:00,  2.25it/s, train_loss=0.176]\n",
            "Epoch 4/20 [Validation]: 100%|██████████| 246/246 [00:36<00:00,  6.66it/s, val_loss=0.411]\n"
          ]
        },
        {
          "name": "stdout",
          "output_type": "stream",
          "text": [
            "Epoch 4/20 - Training Loss: 0.1386, Validation Loss: 0.4691\n"
          ]
        },
        {
          "name": "stderr",
          "output_type": "stream",
          "text": [
            "Epoch 5/20 [Training]: 100%|██████████| 1147/1147 [08:31<00:00,  2.24it/s, train_loss=0.0582]\n",
            "Epoch 5/20 [Validation]: 100%|██████████| 246/246 [00:36<00:00,  6.66it/s, val_loss=0.636]\n"
          ]
        },
        {
          "name": "stdout",
          "output_type": "stream",
          "text": [
            "Epoch 5/20 - Training Loss: 0.0923, Validation Loss: 0.5404\n"
          ]
        },
        {
          "name": "stderr",
          "output_type": "stream",
          "text": [
            "Epoch 6/20 [Training]: 100%|██████████| 1147/1147 [08:30<00:00,  2.25it/s, train_loss=0.219]\n",
            "Epoch 6/20 [Validation]: 100%|██████████| 246/246 [00:36<00:00,  6.67it/s, val_loss=0.324]\n"
          ]
        },
        {
          "name": "stdout",
          "output_type": "stream",
          "text": [
            "Epoch 6/20 - Training Loss: 0.0689, Validation Loss: 0.6213\n"
          ]
        },
        {
          "name": "stderr",
          "output_type": "stream",
          "text": [
            "Epoch 7/20 [Training]: 100%|██████████| 1147/1147 [08:29<00:00,  2.25it/s, train_loss=0.00869]\n",
            "Epoch 7/20 [Validation]: 100%|██████████| 246/246 [00:36<00:00,  6.67it/s, val_loss=0.434]\n"
          ]
        },
        {
          "name": "stdout",
          "output_type": "stream",
          "text": [
            "Epoch 7/20 - Training Loss: 0.0513, Validation Loss: 0.5930\n"
          ]
        },
        {
          "name": "stderr",
          "output_type": "stream",
          "text": [
            "Epoch 8/20 [Training]: 100%|██████████| 1147/1147 [08:29<00:00,  2.25it/s, train_loss=0.00536]\n",
            "Epoch 8/20 [Validation]: 100%|██████████| 246/246 [00:37<00:00,  6.64it/s, val_loss=0.676]\n"
          ]
        },
        {
          "name": "stdout",
          "output_type": "stream",
          "text": [
            "Epoch 8/20 - Training Loss: 0.0447, Validation Loss: 0.6648\n"
          ]
        },
        {
          "name": "stderr",
          "output_type": "stream",
          "text": [
            "Epoch 9/20 [Training]: 100%|██████████| 1147/1147 [08:30<00:00,  2.25it/s, train_loss=0.125]\n",
            "Epoch 9/20 [Validation]: 100%|██████████| 246/246 [00:36<00:00,  6.66it/s, val_loss=0.773]\n"
          ]
        },
        {
          "name": "stdout",
          "output_type": "stream",
          "text": [
            "Epoch 9/20 - Training Loss: 0.0367, Validation Loss: 0.6650\n"
          ]
        },
        {
          "name": "stderr",
          "output_type": "stream",
          "text": [
            "Epoch 10/20 [Training]: 100%|██████████| 1147/1147 [08:29<00:00,  2.25it/s, train_loss=0.00166]\n",
            "Epoch 10/20 [Validation]: 100%|██████████| 246/246 [00:37<00:00,  6.65it/s, val_loss=0.564]\n"
          ]
        },
        {
          "name": "stdout",
          "output_type": "stream",
          "text": [
            "Epoch 10/20 - Training Loss: 0.0352, Validation Loss: 0.7364\n"
          ]
        },
        {
          "name": "stderr",
          "output_type": "stream",
          "text": [
            "Epoch 11/20 [Training]: 100%|██████████| 1147/1147 [08:30<00:00,  2.25it/s, train_loss=0.0703]\n",
            "Epoch 11/20 [Validation]: 100%|██████████| 246/246 [00:36<00:00,  6.65it/s, val_loss=1.06]\n"
          ]
        },
        {
          "name": "stdout",
          "output_type": "stream",
          "text": [
            "Epoch 11/20 - Training Loss: 0.0309, Validation Loss: 0.8151\n"
          ]
        },
        {
          "name": "stderr",
          "output_type": "stream",
          "text": [
            "Epoch 12/20 [Training]: 100%|██████████| 1147/1147 [08:29<00:00,  2.25it/s, train_loss=0.25]\n",
            "Epoch 12/20 [Validation]: 100%|██████████| 246/246 [00:36<00:00,  6.67it/s, val_loss=0.993]\n"
          ]
        },
        {
          "name": "stdout",
          "output_type": "stream",
          "text": [
            "Epoch 12/20 - Training Loss: 0.0278, Validation Loss: 0.8286\n"
          ]
        },
        {
          "name": "stderr",
          "output_type": "stream",
          "text": [
            "Epoch 13/20 [Training]: 100%|██████████| 1147/1147 [08:29<00:00,  2.25it/s, train_loss=0.176]\n",
            "Epoch 13/20 [Validation]: 100%|██████████| 246/246 [00:36<00:00,  6.67it/s, val_loss=0.859]\n"
          ]
        },
        {
          "name": "stdout",
          "output_type": "stream",
          "text": [
            "Epoch 13/20 - Training Loss: 0.0263, Validation Loss: 0.9050\n"
          ]
        },
        {
          "name": "stderr",
          "output_type": "stream",
          "text": [
            "Epoch 14/20 [Training]: 100%|██████████| 1147/1147 [08:29<00:00,  2.25it/s, train_loss=0.0514]\n",
            "Epoch 14/20 [Validation]: 100%|██████████| 246/246 [00:36<00:00,  6.68it/s, val_loss=0.632]\n"
          ]
        },
        {
          "name": "stdout",
          "output_type": "stream",
          "text": [
            "Epoch 14/20 - Training Loss: 0.0230, Validation Loss: 0.7852\n"
          ]
        },
        {
          "name": "stderr",
          "output_type": "stream",
          "text": [
            "Epoch 15/20 [Training]: 100%|██████████| 1147/1147 [08:32<00:00,  2.24it/s, train_loss=0.0607]\n",
            "Epoch 15/20 [Validation]: 100%|██████████| 246/246 [00:36<00:00,  6.67it/s, val_loss=0.742]\n"
          ]
        },
        {
          "name": "stdout",
          "output_type": "stream",
          "text": [
            "Epoch 15/20 - Training Loss: 0.0235, Validation Loss: 0.7806\n"
          ]
        },
        {
          "name": "stderr",
          "output_type": "stream",
          "text": [
            "Epoch 16/20 [Training]: 100%|██████████| 1147/1147 [08:30<00:00,  2.25it/s, train_loss=0.0572]\n",
            "Epoch 16/20 [Validation]: 100%|██████████| 246/246 [00:36<00:00,  6.68it/s, val_loss=1.01]\n"
          ]
        },
        {
          "name": "stdout",
          "output_type": "stream",
          "text": [
            "Epoch 16/20 - Training Loss: 0.0230, Validation Loss: 0.8615\n"
          ]
        },
        {
          "name": "stderr",
          "output_type": "stream",
          "text": [
            "Epoch 17/20 [Training]: 100%|██████████| 1147/1147 [08:29<00:00,  2.25it/s, train_loss=0.051]\n",
            "Epoch 17/20 [Validation]: 100%|██████████| 246/246 [00:36<00:00,  6.66it/s, val_loss=0.592]\n"
          ]
        },
        {
          "name": "stdout",
          "output_type": "stream",
          "text": [
            "Epoch 17/20 - Training Loss: 0.0208, Validation Loss: 0.8130\n"
          ]
        },
        {
          "name": "stderr",
          "output_type": "stream",
          "text": [
            "Epoch 18/20 [Training]: 100%|██████████| 1147/1147 [08:29<00:00,  2.25it/s, train_loss=0.116]\n",
            "Epoch 18/20 [Validation]: 100%|██████████| 246/246 [00:36<00:00,  6.67it/s, val_loss=0.58]\n"
          ]
        },
        {
          "name": "stdout",
          "output_type": "stream",
          "text": [
            "Epoch 18/20 - Training Loss: 0.0210, Validation Loss: 0.8250\n"
          ]
        },
        {
          "name": "stderr",
          "output_type": "stream",
          "text": [
            "Epoch 19/20 [Training]: 100%|██████████| 1147/1147 [08:29<00:00,  2.25it/s, train_loss=0.00139]\n",
            "Epoch 19/20 [Validation]: 100%|██████████| 246/246 [00:36<00:00,  6.66it/s, val_loss=0.698]\n"
          ]
        },
        {
          "name": "stdout",
          "output_type": "stream",
          "text": [
            "Epoch 19/20 - Training Loss: 0.0194, Validation Loss: 0.7943\n"
          ]
        },
        {
          "name": "stderr",
          "output_type": "stream",
          "text": [
            "Epoch 20/20 [Training]: 100%|██████████| 1147/1147 [08:29<00:00,  2.25it/s, train_loss=0.0317]\n",
            "Epoch 20/20 [Validation]: 100%|██████████| 246/246 [00:36<00:00,  6.68it/s, val_loss=0.448]"
          ]
        },
        {
          "name": "stdout",
          "output_type": "stream",
          "text": [
            "Epoch 20/20 - Training Loss: 0.0173, Validation Loss: 0.9377\n"
          ]
        },
        {
          "name": "stderr",
          "output_type": "stream",
          "text": [
            "\n"
          ]
        }
      ],
      "source": [
        "# Ensure CUDA (GPU support) is available or else use CPU\n",
        "device = torch.device('cuda' if torch.cuda.is_available() else 'cpu')\n",
        "\n",
        "# Model and Optimizer\n",
        "model = DistilBertForSequenceClassification.from_pretrained('distilbert-base-uncased', num_labels=3)\n",
        "model.to(device)\n",
        "optimizer = AdamW(model.parameters(), lr=5e-5)\n",
        "\n",
        "# Training Loop\n",
        "train_losses = []\n",
        "val_losses = []\n",
        "num_epochs = 20\n",
        "\n",
        "for epoch in range(num_epochs):\n",
        "    model.train()\n",
        "    total_train_loss = 0\n",
        "    progress_bar = tqdm(train_dataloader, desc=f\"Epoch {epoch + 1}/{num_epochs} [Training]\")\n",
        "    for batch in progress_bar:\n",
        "        # Move input and labels to the device\n",
        "        input_ids = batch['input_ids'].to(device)\n",
        "        attention_mask = batch['attention_mask'].to(device)\n",
        "        labels = batch['labels'].to(device)\n",
        "\n",
        "        # Zero the gradients on the model\n",
        "        optimizer.zero_grad()\n",
        "\n",
        "        # Forward pass\n",
        "        outputs = model(input_ids, attention_mask=attention_mask, labels=labels)\n",
        "        loss = outputs.loss\n",
        "\n",
        "        # Backward pass\n",
        "        loss.backward()\n",
        "        optimizer.step()\n",
        "\n",
        "        total_train_loss += loss.item()\n",
        "        progress_bar.set_postfix({'train_loss': loss.item()})\n",
        "\n",
        "    avg_train_loss = total_train_loss / len(train_dataloader)\n",
        "    train_losses.append(avg_train_loss)\n",
        "\n",
        "    # Validation\n",
        "    model.eval()\n",
        "    total_val_loss = 0\n",
        "    progress_bar = tqdm(val_dataloader, desc=f\"Epoch {epoch + 1}/{num_epochs} [Validation]\")\n",
        "    with torch.no_grad():\n",
        "        for batch in progress_bar:\n",
        "            input_ids = batch['input_ids'].to(device)\n",
        "            attention_mask = batch['attention_mask'].to(device)\n",
        "            labels = batch['labels'].to(device)\n",
        "\n",
        "            outputs = model(input_ids, attention_mask=attention_mask, labels=labels)\n",
        "            loss = outputs.loss\n",
        "\n",
        "            total_val_loss += loss.item()\n",
        "            progress_bar.set_postfix({'val_loss': loss.item()})\n",
        "\n",
        "    avg_val_loss = total_val_loss / len(val_dataloader)\n",
        "    val_losses.append(avg_val_loss)\n",
        "\n",
        "    print(f\"Epoch {epoch+1}/{num_epochs} - Training Loss: {avg_train_loss:.4f}, Validation Loss: {avg_val_loss:.4f}\")\n"
      ]
    },
    {
      "cell_type": "code",
      "execution_count": 52,
      "metadata": {
        "colab": {
          "base_uri": "https://localhost:8080/"
        },
        "id": "MHAdZ8YI8m4a",
        "outputId": "479b572f-dc9b-45b0-e9b7-afdeeeb18433"
      },
      "outputs": [
        {
          "name": "stdout",
          "output_type": "stream",
          "text": [
            "              precision    recall  f1-score   support\n",
            "\n",
            "    Negative       0.73      0.92      0.81      1438\n",
            "     Neutral       0.60      0.34      0.43      1232\n",
            "    Positive       0.91      0.94      0.92      5195\n",
            "\n",
            "    accuracy                           0.84      7865\n",
            "   macro avg       0.74      0.73      0.72      7865\n",
            "weighted avg       0.83      0.84      0.83      7865\n",
            "\n",
            "Overall Accuracy: 0.84\n"
          ]
        }
      ],
      "source": [
        "model.eval()\n",
        "all_predictions = []\n",
        "all_true_labels = []\n",
        "\n",
        "with torch.no_grad():\n",
        "    for batch in test_dataloader:\n",
        "        input_ids = batch['input_ids'].to(device)\n",
        "        attention_mask = batch['attention_mask'].to(device)\n",
        "        labels = batch['labels'].to(device)\n",
        "\n",
        "        outputs = model(input_ids, attention_mask=attention_mask)\n",
        "        logits = outputs.logits\n",
        "        predictions = torch.argmax(logits, dim=-1)\n",
        "\n",
        "        all_predictions.extend(predictions.cpu().numpy())\n",
        "        all_true_labels.extend(labels.cpu().numpy())\n",
        "\n",
        "# Calculate and print the classification report\n",
        "from sklearn.metrics import classification_report, accuracy_score\n",
        "print(classification_report(all_true_labels, all_predictions, target_names=['Negative', 'Neutral', 'Positive']))\n",
        "# Print overall accuracy\n",
        "overall_accuracy = accuracy_score(all_true_labels, all_predictions)\n",
        "print(f\"Overall Accuracy: {overall_accuracy:.2f}\")"
      ]
    },
    {
      "cell_type": "code",
      "execution_count": 13,
      "metadata": {
        "colab": {
          "base_uri": "https://localhost:8080/",
          "height": 472
        },
        "id": "eGnEFZbuT0mO",
        "outputId": "63174228-8c45-414c-88d7-e874ec70f3a6"
      },
      "outputs": [
        {
          "data": {
            "image/png": "[encoded data removed]",
            "text/plain": [
              "<Figure size 640x480 with 1 Axes>"
            ]
          },
          "metadata": {},
          "output_type": "display_data"
        }
      ],
      "source": [
        "import matplotlib.pyplot as plt\n",
        "\n",
        "plt.plot(train_losses, label='Training Loss')\n",
        "plt.plot(val_losses, label='Validation Loss')\n",
        "plt.xlabel('Epochs')\n",
        "plt.ylabel('Loss')\n",
        "plt.title('Training and Validation Loss Curves')\n",
        "plt.legend()\n",
        "plt.show()"
      ]
    },
    {
      "cell_type": "code",
      "execution_count": 49,
      "metadata": {
        "colab": {
          "base_uri": "https://localhost:8080/"
        },
        "id": "uElH1eEH7I71",
        "outputId": "4fccb84f-d86c-48ef-e4d7-611002be7226"
      },
      "outputs": [
        {
          "name": "stdout",
          "output_type": "stream",
          "text": [
            "Drive already mounted at /content/gdrive; to attempt to forcibly remount, call drive.mount(\"/content/gdrive\", force_remount=True).\n",
            "Model saved to /content/gdrive/MyDrive/SYSEN 6888/Code/distilBERT_parameters.pth\n"
          ]
        }
      ],
      "source": [
        "# Save the model's state dictionary\n",
        "model_save_path = '../saved_models/distilBERT_parameters.pth'\n",
        "torch.save(model.state_dict(), model_save_path)\n",
        "\n",
        "print(f\"Model saved to {model_save_path}\")\n",
        "\n",
        "# loading the model\n",
        "# model.load_state_dict(torch.load('/content/gdrive/MyDrive/model_state.pth'))\n"
      ]
    },
    {
      "cell_type": "code",
      "execution_count": 35,
      "metadata": {
        "colab": {
          "base_uri": "https://localhost:8080/"
        },
        "id": "2RUOt-b4o974",
        "outputId": "e4884e80-cfc6-4b30-eef5-a1080fa12fb0"
      },
      "outputs": [
        {
          "name": "stderr",
          "output_type": "stream",
          "text": [
            "<ipython-input-35-b167ce823e5f>:2: DtypeWarning: Columns (0,9,10,11,12,13,14,15) have mixed types. Specify dtype option on import or set low_memory=False.\n",
            "  yelp_reviews = pd.read_csv(\"/content/gdrive/MyDrive/SYSEN 6888/Code/yelp_dataset/yelp reviews.csv\", encoding='latin1')\n"
          ]
        }
      ],
      "source": [
        "# Load the dataset\n",
        "yelp_reviews = pd.read_csv(\"../data/yelp reviews.csv\", encoding='latin1')\n",
        "\n",
        "# Remove NaN reviews\n",
        "drop_indices = yelp_reviews[yelp_reviews['Comment'].map(type) != str].index.tolist()\n",
        "yelp_reviews = yelp_reviews.drop(drop_indices).reset_index(drop=True)\n",
        "\n",
        "# Now, apply the length calculation\n",
        "yelp_reviews['Length'] = yelp_reviews['Comment'].apply(lambda x: len(x.split()))\n",
        "\n",
        "# Keep only 'Length' and 'Comment' columns\n",
        "yelp_reviews = yelp_reviews[['Length', 'Comment']]\n"
      ]
    },
    {
      "cell_type": "code",
      "execution_count": 44,
      "metadata": {
        "colab": {
          "base_uri": "https://localhost:8080/"
        },
        "id": "xGJstOFgj05H",
        "outputId": "58fc335e-69cb-4e2c-d510-9cc33b2b1049"
      },
      "outputs": [
        {
          "name": "stdout",
          "output_type": "stream",
          "text": [
            "Number of reviews to analyze: 14\n"
          ]
        }
      ],
      "source": [
        "# Specified indices\n",
        "index = [44823, 62302, 82119, 183012, 317114, 320417, 324000, 335281, 341490, 404605, 457119, 478264, 488909, 532973]\n",
        "\n",
        "# Validate indices - making sure they are within the new DataFrame's range\n",
        "valid_indices = [idx for idx in index if idx < len(yelp_reviews)]\n",
        "\n",
        "# Access reviews by valid indices\n",
        "new_reviews = [(i, yelp_reviews.iloc[i]['Comment']) for i in valid_indices]\n",
        "\n",
        "print(f\"Number of reviews to analyze: {len(new_reviews)}\")\n"
      ]
    },
    {
      "cell_type": "code",
      "execution_count": 45,
      "metadata": {
        "colab": {
          "base_uri": "https://localhost:8080/"
        },
        "id": "W34msSRu8pEr",
        "outputId": "d453ca86-1d1e-4862-cc17-1c63f2e420cf"
      },
      "outputs": [
        {
          "name": "stdout",
          "output_type": "stream",
          "text": [
            "Original Review Index: 44823\n",
            "Review: \"My roommates and I got a large pie which took an hour to get to us (pretty reasonable), but wowie wow was the pizza a disappointment. Undercooked/mushy in the middle with bland sauce and very few redeeming factors. I could've saved my $$ and bought a frozen pizza at the store- it certainly would've tasted better....\"\n",
            "Sentiment: Negative\n",
            "\n",
            "Original Review Index: 62302\n",
            "Review: \"I eat here almost every single weekend. The worst the food has ever been is \"Eh, average\" and I think that's usually just when they've got like ten thousand deliveries and there's not a whole lot they can do about that, it kind of just is what it is. 98% of the time the food is SO GOOD. The portions seem to be larger when you eat in the restaurant, but they're not stingy ever by any means. I always have leftovers. The French fries are my favorite in the neighborhood, definitely order the hummus, and obviously the chicken gyro is delicious. I also regularly get the falafel and the vegetable platter - both are excellent. (Although, be careful when unpacking the vegetable platter if you get delivery because the oil tends to get everywhere.) If they ever close I honestly don't know how I'll feed myself on the weekends....\"\n",
            "Sentiment: Positive\n",
            "\n",
            "Original Review Index: 82119\n",
            "Review: \"Went to Beast and Bottles for dinner and was impressed by the food. The Atlantic Salmon Crudo was a great starter and the Duck for two was excellent. The Cavatelli was also very good with a lot of flavor and a bit of a kick. The servers were also friendly and helpful....\"\n",
            "Sentiment: Positive\n",
            "\n",
            "Original Review Index: 183012\n",
            "Review: \"So I like Italian hot dogs (that's what she said) and so does fellow Yelper and Italian meatball, Mark V; ergo we did a Food Wars-esque comparison between Charlies Hot Dogs and Jimmy Buffs Hot Dogs for lunch today. Yeah, we're fat, so what. Both spots' \"singles\" were tasty; the hot dog was crispier at Charlies and it didn't have casing; the potatoes were greasier at Charlies and cooked a little more; the green and red peppers were juicier and tasted fresher at Jimmy Buffs; the bread tasted fresher at Jimmy Buffs. I'm biggin-up Jimmy Buffs. I need some pepto bismol, asap...ugh...\"\n",
            "Sentiment: Positive\n",
            "\n",
            "Original Review Index: 317114\n",
            "Review: \"This place was a bit of a disappointment. The bright spot was the waitress. Other than the, the product received wasn't up to bar at all. The brisket sliders weren't very good and didn't taste anything like brisket. I ordered an Irish whiskey and in they're menu it says they use Irish whiskey. They in fact use Banker's Club, which is American and one of the cheapest whiskies you can find. We also found a hard rock-like substance in the food. They struck it off the menu but I guess it topped of what was a not-so-great meal....\"\n",
            "Sentiment: Negative\n",
            "\n",
            "Original Review Index: 320417\n",
            "Review: \"Stopped in for the first time yesterday, and was so glad I did! I've been struggling to find things that appeal to my newly pregnant/sensitive tummy, and was feeling particularly crummy yesterday afternoon. Clean, fresh juice sounded like just the ticket, and boy was it ever! I ordered their Eat a Peach, and was rewarded with a refreshing, light smoothie that literally made me feel 100 times better. The best part was that it was not overly sweet, like so many smoothies from chains tend to be - just the right amount of fresh fruit flavor. I was also a little nervous that the cinnamon, aloe, or coconut milk might be overpowering elements in the smoothie, but everything blended together perfectly. Happy to have found a new neighborhood favorite! :)...\"\n",
            "Sentiment: Positive\n",
            "\n",
            "Original Review Index: 324000\n",
            "Review: \"Love this place. We get the adobo chicken with garlic rice. It's amazing!...\"\n",
            "Sentiment: Positive\n",
            "\n",
            "Original Review Index: 335281\n",
            "Review: \"Small, greatly decorated east village spot. Small menu. The pho tasted fabulous and the house chili sauce was a great addition on the side. My husband and I got the shrimp app and They looked great. As I bit into it, I found they were undercooked and raw inside. I brought this to the attention of the waitress and the floor manager that night came over to apologize and offered to have the chef remake it or get something else. She said that the shrimp were sushi grade so it was safe to eat. But that mistake should have never been made. The staff was friendly and attentive about the situation. Overall, I would one back to try some of their shareable menu items.....\"\n",
            "Sentiment: Negative\n",
            "\n",
            "Original Review Index: 341490\n",
            "Review: \"The ease of ordering from the eat24 app did not overcome the food that came with. The flavors on the Murgha Tikka Musalam were very off and under seasoned. There were 10-12 small nuggets of chicken in a very heavy sauce that immediately split into a thick oil after a minute of being open. The garlic naan was pretty burnt and had sparse garlic as well. Honestly the standout was the mango lassi that actually had the texture and taste of eating a mango. I'd summarize this as under seasoned and overpriced. I'd be picking from a different Indian restaurant of the village next time....\"\n",
            "Sentiment: Negative\n",
            "\n",
            "Original Review Index: 404605\n",
            "Review: \"If you're hungry in South Williamsburg between 10:00PM and 11:00 PM, your three options are now: 1) Checkers, 2) an anonymous bodega, or 3) Kebab Shack. May this place live long and prosper so hard. Great falafel....\"\n",
            "Sentiment: Positive\n",
            "\n",
            "Original Review Index: 457119\n",
            "Review: \"Nice Coffee Shop in Astoria. The internet is fast and the coffee is good. Also, have a good area to work....\"\n",
            "Sentiment: Positive\n",
            "\n",
            "Original Review Index: 478264\n",
            "Review: \"OMG probably some of the best tacos I have ever had!!! If you haven't tried these, you better get yourself to Chelsea market today and make that long line for your taco. I was pondering whether I should make the line or not but I'm so glad I did! You can see the ladies preparing the corn tortillas hand-made. And once u get ur taco u can add any toppings u want, like pico de gallo, hot sauce & lime. I really wish I could get this quality of Mexican food somewhere closer to home (Queens). I'll def be back here every time I'm in the area....\"\n",
            "Sentiment: Positive\n",
            "\n",
            "Original Review Index: 488909\n",
            "Review: \"Bread was stale. Octopus was burnt. We were starving so didn't send it back, which if we did they'd probably remake but shouldn't of came out that way. Even chick peas were burnt. Meatballs were good. Creme Bulee had hair in it. Sent it back they replaced it. It was really good tho. Service was great....\"\n",
            "Sentiment: Negative\n",
            "\n",
            "Original Review Index: 532973\n",
            "Review: \"Momofuku noodle bar opens at noon and at 11:47am when we rolled up there were already a few people waiting around outside, looking all excited and what not. This, in turn, made me excited. We were seated right at noon. I'm off soda, but Momofuku offers R.C. Cola, which was just referenced by a friend the night before, so I took it as a sign that I needed to drink it. For the first time in at least ten years, I enjoyed a Diet R.C. - so good, so crisp! To start, the boys (Mike and his brother) went with steamed pork buns, and we (the women) went with steamed shrimp buns. The pork buns may or may not have contained pork belly and looked fatty but in a good way if you're into meat. Topped with some of the squeeze-bottle hot sauce they left at the table, they said it was mad delicious. Their moods were visibly elevated, always a sign of quality. Our shrimp buns were absolutely delicious - a shrimp patty that looked like a McDonald's hashbrown with crisp, tangy cabbage (I think) and some spicy mayoish sauce. Mike had a bite of mine and said \"that tastes like a McDonald's chicken patty and that is by no means a bad thing.\" They were delicious. Between the four of us, both of the women opted for the only vegetarian noodle bowl - ginger scallion noodles, with pickled shiitake mushrooms and cucumber slices, lots of finly diced scallions and lots of ginger ESSENCE. The ramen noodles had bite and the texture was great. Heavy on the ginger, the scallions and veggies balanced it out nicely. The guys went wild for their respective choices - Momofuku's signature ramen bowl and the brisket bowl. The food was so good there was minimal talking throughout the meal other than to discuss how good it was. The prices here are pretty fair and I can see why Momofuku is a hot lunch spot. I'd like to try their other locations. Also, if you're smart, you'll head over a few blocks following your meal at any Momofuku of your choice and stop in their Milk Bar for dessert....\"\n",
            "Sentiment: Positive\n",
            "\n"
          ]
        }
      ],
      "source": [
        "# Iterate over each review in new_reviews\n",
        "for original_idx, review in new_reviews:\n",
        "    # Encode the review\n",
        "    encoded_review = tokenizer.encode_plus(review, max_length=512, truncation=True, padding='max_length', return_tensors=\"pt\")\n",
        "\n",
        "    # Move encoded review to the correct device\n",
        "    input_ids = encoded_review['input_ids'].to(device)\n",
        "    attention_mask = encoded_review['attention_mask'].to(device)\n",
        "\n",
        "    # Perform sentiment analysis\n",
        "    with torch.no_grad():\n",
        "        outputs = model(input_ids, attention_mask=attention_mask)\n",
        "        prediction = torch.argmax(outputs.logits, dim=-1)\n",
        "\n",
        "    # Determine sentiment\n",
        "    sentiment = ['Negative', 'Neutral', 'Positive'][prediction.item()]\n",
        "    print(f\"Original Review Index: {original_idx}\\nReview: \\\"{review}...\\\"\\nSentiment: {sentiment}\\n\")\n"
      ]
    }
  ],
  "metadata": {
    "accelerator": "GPU",
    "colab": {
      "gpuType": "A100",
      "provenance": []
    },
    "kernelspec": {
      "display_name": "Python 3",
      "name": "python3"
    },
    "language_info": {
      "name": "python"
    }
  },
  "nbformat": 4,
  "nbformat_minor": 0
}
